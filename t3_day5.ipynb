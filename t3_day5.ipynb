{
  "nbformat": 4,
  "nbformat_minor": 0,
  "metadata": {
    "colab": {
      "name": "t3_day5.ipynb",
      "provenance": [],
      "authorship_tag": "ABX9TyP6glKoVoqTpXDCokRIvAVB",
      "include_colab_link": true
    },
    "kernelspec": {
      "name": "python3",
      "display_name": "Python 3"
    },
    "accelerator": "GPU"
  },
  "cells": [
    {
      "cell_type": "markdown",
      "metadata": {
        "id": "view-in-github",
        "colab_type": "text"
      },
      "source": [
        "<a href=\"https://colab.research.google.com/github/gecon1/dw_matrix_road_sign/blob/master/t3_day5.ipynb\" target=\"_parent\"><img src=\"https://colab.research.google.com/assets/colab-badge.svg\" alt=\"Open In Colab\"/></a>"
      ]
    },
    {
      "cell_type": "code",
      "metadata": {
        "id": "aPB738sOQXsh",
        "colab_type": "code",
        "colab": {
          "base_uri": "https://localhost:8080/",
          "height": 179
        },
        "outputId": "e5351303-9e69-4a9e-a0e1-768311230f34"
      },
      "source": [
        "!pip install hyperopt"
      ],
      "execution_count": 1,
      "outputs": [
        {
          "output_type": "stream",
          "text": [
            "Requirement already satisfied: hyperopt in /usr/local/lib/python3.6/dist-packages (0.1.2)\n",
            "Requirement already satisfied: numpy in /usr/local/lib/python3.6/dist-packages (from hyperopt) (1.18.2)\n",
            "Requirement already satisfied: pymongo in /usr/local/lib/python3.6/dist-packages (from hyperopt) (3.10.1)\n",
            "Requirement already satisfied: tqdm in /usr/local/lib/python3.6/dist-packages (from hyperopt) (4.38.0)\n",
            "Requirement already satisfied: six in /usr/local/lib/python3.6/dist-packages (from hyperopt) (1.12.0)\n",
            "Requirement already satisfied: future in /usr/local/lib/python3.6/dist-packages (from hyperopt) (0.16.0)\n",
            "Requirement already satisfied: networkx in /usr/local/lib/python3.6/dist-packages (from hyperopt) (2.4)\n",
            "Requirement already satisfied: scipy in /usr/local/lib/python3.6/dist-packages (from hyperopt) (1.4.1)\n",
            "Requirement already satisfied: decorator>=4.3.0 in /usr/local/lib/python3.6/dist-packages (from networkx->hyperopt) (4.4.2)\n"
          ],
          "name": "stdout"
        }
      ]
    },
    {
      "cell_type": "code",
      "metadata": {
        "id": "UBwgcVCoQtl8",
        "colab_type": "code",
        "colab": {
          "base_uri": "https://localhost:8080/",
          "height": 35
        },
        "outputId": "9c4bc439-0dcc-4d24-8b17-e5b2bc8bbb99"
      },
      "source": [
        "cd /content/drive/My Drive/Colab Notebooks/matrix/matrix_tree/dw_matrix_road_sign/"
      ],
      "execution_count": 4,
      "outputs": [
        {
          "output_type": "stream",
          "text": [
            "/content/drive/My Drive/Colab Notebooks/matrix/matrix_tree/dw_matrix_road_sign\n"
          ],
          "name": "stdout"
        }
      ]
    },
    {
      "cell_type": "code",
      "metadata": {
        "id": "rKwnH9HARTci",
        "colab_type": "code",
        "colab": {
          "base_uri": "https://localhost:8080/",
          "height": 53
        },
        "outputId": "7e0739e9-ec06-41e2-9bf8-027e3aa1e2dd"
      },
      "source": [
        "import pandas as pd\n",
        "import numpy as np\n",
        "import os\n",
        "import datetime\n",
        "\n",
        "import tensorflow as tf\n",
        "from tensorflow.keras.models import Sequential\n",
        "from tensorflow.keras.layers import Conv2D, MaxPool2D, Dense, Flatten, Dropout\n",
        "from tensorflow.keras.utils import to_categorical\n",
        "\n",
        "%load_ext tensorboard\n",
        "\n",
        "import matplotlib.pyplot as plt\n",
        "from skimage import color, exposure\n",
        "\n",
        "from sklearn.metrics import accuracy_score\n",
        "\n",
        "from hyperopt import hp, STATUS_OK, tpe, Trials, fmin"
      ],
      "execution_count": 19,
      "outputs": [
        {
          "output_type": "stream",
          "text": [
            "The tensorboard extension is already loaded. To reload it, use:\n",
            "  %reload_ext tensorboard\n"
          ],
          "name": "stdout"
        }
      ]
    },
    {
      "cell_type": "code",
      "metadata": {
        "id": "q36wo-MYXKXY",
        "colab_type": "code",
        "colab": {}
      },
      "source": [
        "train = pd.read_pickle('data/train.p')\n",
        "test = pd.read_pickle('data/test.p')\n",
        "\n",
        "X_train, y_train = train['features'], train['labels']\n",
        "X_test, y_test = test['features'], test['labels']"
      ],
      "execution_count": 0,
      "outputs": []
    },
    {
      "cell_type": "code",
      "metadata": {
        "id": "KzPVlT_eR5ew",
        "colab_type": "code",
        "colab": {}
      },
      "source": [
        "if y_train.ndim ==1: y_train = to_categorical(y_train)\n",
        "if y_test.ndim ==1: y_test = to_categorical(y_test)\n",
        "\n",
        "input_shape = X_train.shape[1:]\n",
        "num_classes = y_train.shape[1]"
      ],
      "execution_count": 0,
      "outputs": []
    },
    {
      "cell_type": "code",
      "metadata": {
        "id": "MejkH298SB47",
        "colab_type": "code",
        "colab": {}
      },
      "source": [
        "def train_model(model, X_train, y_train, params_fit={}):\n",
        "  model.compile(loss='categorical_crossentropy', optimizer='Adam', metrics=['accuracy'])\n",
        "\n",
        "  logdir = os.path.join(\"logs\", datetime.datetime.now().strftime(\"%Y%m%d-%H%M%S\"))\n",
        "  tensorboard_callback = tf.keras.callbacks.TensorBoard(logdir, histogram_freq=1)\n",
        "  model.fit(\n",
        "      X_train,\n",
        "      y_train,\n",
        "      batch_size=params_fit.get('batch_size', 128),\n",
        "      epochs=params_fit.get('epochs', 5),\n",
        "      verbose=params_fit.get('verbose', 1),\n",
        "      validation_data=params_fit.get('validation_data', (X_test, y_test)),\n",
        "      callbacks= [tensorboard_callback]\n",
        "      \n",
        "      )\n",
        "  return model\n",
        "\n",
        "def predict(model_trained, X_test, y_test, scoring=accuracy_score):\n",
        "  y_test_norm = np.argmax(y_test, axis=1)\n",
        "  y_pred_prob = model_trained.predict(X_test)\n",
        "  y_pred = np.argmax(y_pred_prob, axis=1)\n",
        "\n",
        "  return scoring(y_test_norm, y_pred)"
      ],
      "execution_count": 0,
      "outputs": []
    },
    {
      "cell_type": "code",
      "metadata": {
        "id": "3bLqomYKSWiD",
        "colab_type": "code",
        "colab": {}
      },
      "source": [
        "def get_cnn_v5(input_shape, num_classes):\n",
        "  return Sequential([\n",
        "    Conv2D(filters=32, kernel_size=(3, 3), activation='relu', input_shape=input_shape),\n",
        "    Conv2D(filters=32, kernel_size=(3, 3), activation='relu', padding='same'),\n",
        "    MaxPool2D(),\n",
        "    Dropout(0.3),\n",
        "\n",
        "    Conv2D(filters=64, kernel_size=(3, 3), activation='relu'),\n",
        "    Conv2D(filters=64, kernel_size=(3, 3), activation='relu', padding='same'),\n",
        "    MaxPool2D(),\n",
        "    Dropout(0.3),\n",
        "\n",
        "    Conv2D(filters=64, kernel_size=(3, 3), activation='relu'),\n",
        "    Conv2D(filters=64, kernel_size=(3, 3), activation='relu', padding='same'),\n",
        "    MaxPool2D(),\n",
        "    Dropout(0.3),\n",
        "\n",
        "    Flatten(),\n",
        "\n",
        "    Dense(1024, activation='relu'),\n",
        "    Dropout(0.3),\n",
        "\n",
        "    Dense(1024, activation='relu'),\n",
        "    Dropout(0.3),\n",
        "\n",
        "    Dense(num_classes, activation='softmax')\n",
        "    ])"
      ],
      "execution_count": 0,
      "outputs": []
    },
    {
      "cell_type": "code",
      "metadata": {
        "id": "J1BxcgtwSytr",
        "colab_type": "code",
        "colab": {
          "base_uri": "https://localhost:8080/",
          "height": 215
        },
        "outputId": "3c4095b9-95b7-40fa-ceeb-bd0575f735d3"
      },
      "source": [
        "model =  get_cnn_v5(input_shape, num_classes)\n",
        "model_trained = train_model(model, X_train, y_train,)\n",
        "predict(model_trained, X_test, y_test)"
      ],
      "execution_count": 14,
      "outputs": [
        {
          "output_type": "stream",
          "text": [
            "Epoch 1/5\n",
            "272/272 [==============================] - 3s 10ms/step - loss: 2.5984 - accuracy: 0.2919 - val_loss: 1.2285 - val_accuracy: 0.6338\n",
            "Epoch 2/5\n",
            "272/272 [==============================] - 3s 9ms/step - loss: 0.8099 - accuracy: 0.7445 - val_loss: 0.3918 - val_accuracy: 0.8846\n",
            "Epoch 3/5\n",
            "272/272 [==============================] - 3s 9ms/step - loss: 0.3771 - accuracy: 0.8810 - val_loss: 0.1915 - val_accuracy: 0.9438\n",
            "Epoch 4/5\n",
            "272/272 [==============================] - 3s 9ms/step - loss: 0.2503 - accuracy: 0.9248 - val_loss: 0.1917 - val_accuracy: 0.9569\n",
            "Epoch 5/5\n",
            "272/272 [==============================] - 3s 9ms/step - loss: 0.1862 - accuracy: 0.9454 - val_loss: 0.1440 - val_accuracy: 0.9660\n"
          ],
          "name": "stdout"
        },
        {
          "output_type": "execute_result",
          "data": {
            "text/plain": [
              "0.9659863945578231"
            ]
          },
          "metadata": {
            "tags": []
          },
          "execution_count": 14
        }
      ]
    },
    {
      "cell_type": "code",
      "metadata": {
        "id": "r9UbVPebUxdE",
        "colab_type": "code",
        "colab": {
          "base_uri": "https://localhost:8080/",
          "height": 53
        },
        "outputId": "3782a73f-e14e-41f1-f772-8aa0ba84b44d"
      },
      "source": [
        "model_trained.evaluate(X_test, y_test)[1]\n"
      ],
      "execution_count": 16,
      "outputs": [
        {
          "output_type": "stream",
          "text": [
            "138/138 [==============================] - 0s 3ms/step - loss: 0.1450 - accuracy: 0.9660\n"
          ],
          "name": "stdout"
        },
        {
          "output_type": "execute_result",
          "data": {
            "text/plain": [
              "0.9659863710403442"
            ]
          },
          "metadata": {
            "tags": []
          },
          "execution_count": 16
        }
      ]
    },
    {
      "cell_type": "code",
      "metadata": {
        "id": "R3OpzJeVYn1e",
        "colab_type": "code",
        "colab": {}
      },
      "source": [
        ""
      ],
      "execution_count": 0,
      "outputs": []
    },
    {
      "cell_type": "code",
      "metadata": {
        "colab_type": "code",
        "id": "eCLzR8jcYoZd",
        "colab": {}
      },
      "source": [
        "def get_model(params):\n",
        "  return Sequential([\n",
        "    Conv2D(filters=32, kernel_size=(3, 3), activation='relu', input_shape=input_shape),\n",
        "    Conv2D(filters=32, kernel_size=(3, 3), activation='relu', padding='same'),\n",
        "    MaxPool2D(),\n",
        "    Dropout(params['dropout_cnn_block_one']),\n",
        "\n",
        "    Conv2D(filters=64, kernel_size=(3, 3), activation='relu'),\n",
        "    Conv2D(filters=64, kernel_size=(3, 3), activation='relu', padding='same'),\n",
        "    MaxPool2D(),\n",
        "    Dropout(params['dropout_cnn_block_two']),\n",
        "\n",
        "    Conv2D(filters=128, kernel_size=(3, 3), activation='relu'),\n",
        "    Conv2D(filters=128, kernel_size=(3, 3), activation='relu', padding='same'),\n",
        "    MaxPool2D(),\n",
        "    Dropout(params['dropout_cnn_block_three']),\n",
        "\n",
        "    Flatten(),\n",
        "\n",
        "    Dense(1024, activation='relu'),\n",
        "    Dropout(params['dropout_dense_block_one']),\n",
        "\n",
        "    Dense(1024, activation='relu'),\n",
        "    Dropout(params['dropout_dense_block_two']),\n",
        "\n",
        "    Dense(num_classes, activation='softmax')\n",
        "    ])"
      ],
      "execution_count": 0,
      "outputs": []
    },
    {
      "cell_type": "code",
      "metadata": {
        "id": "Z-kmtU_RTTRk",
        "colab_type": "code",
        "colab": {}
      },
      "source": [
        "def func_obj(params):\n",
        "  model = get_model(params)\n",
        "  model.compile(loss='categorical_crossentropy', optimizer='Adam', metrics=['accuracy'])\n",
        "\n",
        "  model.fit(\n",
        "      X_train,\n",
        "      y_train,\n",
        "      batch_size=128, #int(params.get('batch_size', 128)),\n",
        "      epochs=5,\n",
        "      verbose=0     \n",
        "      )\n",
        "  \n",
        "  score = model.evaluate(X_test, y_test, verbose=0)\n",
        "  accuracy = score[1]\n",
        "  print(params, 'accuracy={}'.format(accuracy))\n",
        "\n",
        "  return {'loss': -accuracy, 'status': STATUS_OK, 'model': model }"
      ],
      "execution_count": 0,
      "outputs": []
    },
    {
      "cell_type": "code",
      "metadata": {
        "id": "sKr1c4u0W7bQ",
        "colab_type": "code",
        "colab": {
          "base_uri": "https://localhost:8080/",
          "height": 955
        },
        "outputId": "2907059c-8a21-4ed3-f3c9-32905753090f"
      },
      "source": [
        "space = {\n",
        "    'batch_size': hp.quniform('batch_size', 100, 200, 10),\n",
        "    'dropout_cnn_block_one': hp.uniform('dropout_cnn_block_one', 0.3, 0.5),\n",
        "    'dropout_cnn_block_two': hp.uniform('dropout_cnn_block_two', 0.3, 0.5),\n",
        "    'dropout_cnn_block_three': hp.uniform('dropout_cnn_block_three', 0.3, 0.5),\n",
        "\n",
        "    'dropout_dense_block_one': hp.uniform('dropout_dense_block_one', 0.3, 0.7),\n",
        "    'dropout_dense_block_two': hp.uniform('dropout_dense_block_two', 0.3, 0.7),\n",
        "    \n",
        "\n",
        "}\n",
        "\n",
        "best = fmin(\n",
        "    func_obj,\n",
        "    space,\n",
        "    tpe.suggest,\n",
        "    25,\n",
        "    Trials()\n",
        ")\n"
      ],
      "execution_count": 31,
      "outputs": [
        {
          "output_type": "stream",
          "text": [
            "{'batch_size': 170.0, 'dropout_cnn_block_one': 0.4185139871106529, 'dropout_cnn_block_three': 0.3371203305159247, 'dropout_cnn_block_two': 0.4271301106989026, 'dropout_dense_block_one': 0.4342432958219833, 'dropout_dense_block_two': 0.6314069561889963}\n",
            "accuracy=0.9517006874084473\n",
            "{'batch_size': 140.0, 'dropout_cnn_block_one': 0.3820734014146339, 'dropout_cnn_block_three': 0.4528480175697675, 'dropout_cnn_block_two': 0.4487887565639752, 'dropout_dense_block_one': 0.679333646818541, 'dropout_dense_block_two': 0.3424543816753227}\n",
            "accuracy=0.9589568972587585\n",
            "{'batch_size': 110.0, 'dropout_cnn_block_one': 0.496929046763425, 'dropout_cnn_block_three': 0.3585745703188434, 'dropout_cnn_block_two': 0.4143759388654571, 'dropout_dense_block_one': 0.6480977283738217, 'dropout_dense_block_two': 0.4856751999761407}\n",
            "accuracy=0.8507936596870422\n",
            "{'batch_size': 120.0, 'dropout_cnn_block_one': 0.3161008359173364, 'dropout_cnn_block_three': 0.39597438850519684, 'dropout_cnn_block_two': 0.3120237008481824, 'dropout_dense_block_one': 0.42351396243828315, 'dropout_dense_block_two': 0.6874456946672485}\n",
            "accuracy=0.9614512324333191\n",
            "{'batch_size': 160.0, 'dropout_cnn_block_one': 0.412047666503955, 'dropout_cnn_block_three': 0.30696215946541056, 'dropout_cnn_block_two': 0.4882309889666486, 'dropout_dense_block_one': 0.4930144238265537, 'dropout_dense_block_two': 0.4934681085984941}\n",
            "accuracy=0.945805013179779\n",
            "{'batch_size': 160.0, 'dropout_cnn_block_one': 0.319686331567065, 'dropout_cnn_block_three': 0.4988803603967575, 'dropout_cnn_block_two': 0.38093686223713225, 'dropout_dense_block_one': 0.6183569922589429, 'dropout_dense_block_two': 0.3310036123191794}\n",
            "accuracy=0.9299319982528687\n",
            "{'batch_size': 150.0, 'dropout_cnn_block_one': 0.3687317525676667, 'dropout_cnn_block_three': 0.4450791011720244, 'dropout_cnn_block_two': 0.35357816017871063, 'dropout_dense_block_one': 0.6003552493829656, 'dropout_dense_block_two': 0.6118460145909617}\n",
            "accuracy=0.9609977602958679\n",
            "{'batch_size': 100.0, 'dropout_cnn_block_one': 0.39605965936767595, 'dropout_cnn_block_three': 0.4338985104129484, 'dropout_cnn_block_two': 0.4342949837032679, 'dropout_dense_block_one': 0.3419467355985222, 'dropout_dense_block_two': 0.5733600769702297}\n",
            "accuracy=0.9682539701461792\n",
            "{'batch_size': 130.0, 'dropout_cnn_block_one': 0.3008718136759302, 'dropout_cnn_block_three': 0.42765548477220056, 'dropout_cnn_block_two': 0.4994989889986201, 'dropout_dense_block_one': 0.6670093333635362, 'dropout_dense_block_two': 0.6332818189599875}\n",
            "accuracy=0.855555534362793\n",
            "{'batch_size': 130.0, 'dropout_cnn_block_one': 0.48443011307629463, 'dropout_cnn_block_three': 0.48015296112845174, 'dropout_cnn_block_two': 0.3259373844091138, 'dropout_dense_block_one': 0.4089816970728167, 'dropout_dense_block_two': 0.35285543372814954}\n",
            "accuracy=0.9526076912879944\n",
            "{'batch_size': 140.0, 'dropout_cnn_block_one': 0.3604232687602117, 'dropout_cnn_block_three': 0.4530085151004685, 'dropout_cnn_block_two': 0.3380086447099576, 'dropout_dense_block_one': 0.5137220778516463, 'dropout_dense_block_two': 0.38039346442993127}\n",
            "accuracy=0.9684807062149048\n",
            "{'batch_size': 170.0, 'dropout_cnn_block_one': 0.4633321913104074, 'dropout_cnn_block_three': 0.4241360329269386, 'dropout_cnn_block_two': 0.449695555196509, 'dropout_dense_block_one': 0.6979637755233645, 'dropout_dense_block_two': 0.40377658123108995}\n",
            "accuracy=0.8455782532691956\n",
            "{'batch_size': 150.0, 'dropout_cnn_block_one': 0.444384586983979, 'dropout_cnn_block_three': 0.4462638025031542, 'dropout_cnn_block_two': 0.49689349518179216, 'dropout_dense_block_one': 0.6553855520041353, 'dropout_dense_block_two': 0.5442852650826668}\n",
            "accuracy=0.8290249705314636\n",
            "{'batch_size': 130.0, 'dropout_cnn_block_one': 0.49209593661160805, 'dropout_cnn_block_three': 0.41042268469717713, 'dropout_cnn_block_two': 0.4465434860129911, 'dropout_dense_block_one': 0.45211199822801595, 'dropout_dense_block_two': 0.484476908266292}\n",
            "accuracy=0.7684807181358337\n",
            "{'batch_size': 180.0, 'dropout_cnn_block_one': 0.30085791013427626, 'dropout_cnn_block_three': 0.33144397091453404, 'dropout_cnn_block_two': 0.3860308223689854, 'dropout_dense_block_one': 0.37002069894770506, 'dropout_dense_block_two': 0.5998365252137625}\n",
            "accuracy=0.9750567078590393\n",
            "{'batch_size': 140.0, 'dropout_cnn_block_one': 0.31308764025952446, 'dropout_cnn_block_three': 0.3016160657559405, 'dropout_cnn_block_two': 0.4544129975909084, 'dropout_dense_block_one': 0.413979575992142, 'dropout_dense_block_two': 0.6117367224272263}\n",
            "accuracy=0.9607709646224976\n",
            "{'batch_size': 180.0, 'dropout_cnn_block_one': 0.40939257149798675, 'dropout_cnn_block_three': 0.48412191549911715, 'dropout_cnn_block_two': 0.43568862429550337, 'dropout_dense_block_one': 0.3266925511532444, 'dropout_dense_block_two': 0.4713624738528003}\n",
            "accuracy=0.9287981986999512\n",
            "{'batch_size': 110.0, 'dropout_cnn_block_one': 0.3188227725000468, 'dropout_cnn_block_three': 0.3982453119162105, 'dropout_cnn_block_two': 0.4710836846827874, 'dropout_dense_block_one': 0.3273325336152025, 'dropout_dense_block_two': 0.4973385945077243}\n",
            "accuracy=0.9639455676078796\n",
            "{'batch_size': 190.0, 'dropout_cnn_block_one': 0.4533690221761952, 'dropout_cnn_block_three': 0.4169495121082639, 'dropout_cnn_block_two': 0.4278861302957423, 'dropout_dense_block_one': 0.5878019622562984, 'dropout_dense_block_two': 0.6487996929009365}\n",
            "accuracy=0.9136054515838623\n",
            "{'batch_size': 180.0, 'dropout_cnn_block_one': 0.4955233321830027, 'dropout_cnn_block_three': 0.456626016069981, 'dropout_cnn_block_two': 0.3249697401954262, 'dropout_dense_block_one': 0.5591885676135362, 'dropout_dense_block_two': 0.31120285056021985}\n",
            "accuracy=0.9625850319862366\n",
            "{'batch_size': 200.0, 'dropout_cnn_block_one': 0.34791524157251813, 'dropout_cnn_block_three': 0.3541124346779416, 'dropout_cnn_block_two': 0.3786869758253183, 'dropout_dense_block_one': 0.5269653131479528, 'dropout_dense_block_two': 0.41929836801365544}\n",
            "accuracy=0.961904764175415\n",
            "{'batch_size': 200.0, 'dropout_cnn_block_one': 0.3463533442455889, 'dropout_cnn_block_three': 0.3789958452431051, 'dropout_cnn_block_two': 0.3511329123031306, 'dropout_dense_block_one': 0.36313071474953057, 'dropout_dense_block_two': 0.5386808815761946}\n",
            "accuracy=0.9718821048736572\n",
            "{'batch_size': 200.0, 'dropout_cnn_block_one': 0.3385920874887517, 'dropout_cnn_block_three': 0.37690641890429993, 'dropout_cnn_block_two': 0.3867811025077383, 'dropout_dense_block_one': 0.36906432874222095, 'dropout_dense_block_two': 0.5560325960710859}\n",
            "accuracy=0.9662131667137146\n",
            "{'batch_size': 190.0, 'dropout_cnn_block_one': 0.3379343230116963, 'dropout_cnn_block_three': 0.3351288082699946, 'dropout_cnn_block_two': 0.3626059394936648, 'dropout_dense_block_one': 0.38083266306589575, 'dropout_dense_block_two': 0.6905738838537331}\n",
            "accuracy=0.9650793671607971\n",
            "{'batch_size': 190.0, 'dropout_cnn_block_one': 0.30143024154584114, 'dropout_cnn_block_three': 0.3792957375317793, 'dropout_cnn_block_two': 0.3963116314626408, 'dropout_dense_block_one': 0.30810212914916957, 'dropout_dense_block_two': 0.5272282585602595}\n",
            "accuracy=0.9628117680549622\n",
            "100%|██████████| 25/25 [04:21<00:00, 10.46s/it, best loss: -0.9750567078590393]\n"
          ],
          "name": "stdout"
        }
      ]
    },
    {
      "cell_type": "code",
      "metadata": {
        "id": "pl6iHXG1X9Br",
        "colab_type": "code",
        "colab": {}
      },
      "source": [
        ""
      ],
      "execution_count": 0,
      "outputs": []
    }
  ]
}